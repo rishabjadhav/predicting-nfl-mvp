{
 "cells": [
  {
   "cell_type": "code",
   "execution_count": 57,
   "id": "c5fa95eb-6916-4882-807f-5521e4089b71",
   "metadata": {},
   "outputs": [],
   "source": [
    "import pandas as pd"
   ]
  },
  {
   "cell_type": "code",
   "execution_count": 58,
   "id": "93b9b914-59d9-4ee9-8a29-a0e24f995c8c",
   "metadata": {},
   "outputs": [],
   "source": [
    "stats = pd.read_csv(\"stats.csv\")"
   ]
  },
  {
   "cell_type": "code",
   "execution_count": 59,
   "id": "234bf47f-94ec-4c7a-ba37-9d1de60c37d0",
   "metadata": {},
   "outputs": [],
   "source": [
    "del stats[\"Unnamed: 0\"]"
   ]
  },
  {
   "cell_type": "code",
   "execution_count": 60,
   "id": "7b3b0b24-7040-41fb-88e6-3f608c1beaaa",
   "metadata": {},
   "outputs": [
    {
     "data": {
      "text/plain": [
       "Index(['Player', 'Tm', 'Age', 'Pos', 'G', 'GS', 'QBrec', 'Cmp', 'Att', 'Cmp%',\n",
       "       'Yds', 'TD', 'TD%', 'Int', 'Int%', '1D', 'Lng', 'Y/A', 'AY/A', 'Y/C',\n",
       "       'Y/G', 'Rate', 'QBR', 'Sk', 'Yds.1', 'Sk%', 'NY/A', 'ANY/A', '4QC',\n",
       "       'GWD', 'Year', 'Votes', 'Share'],\n",
       "      dtype='object')"
      ]
     },
     "execution_count": 60,
     "metadata": {},
     "output_type": "execute_result"
    }
   ],
   "source": [
    "stats.columns"
   ]
  },
  {
   "cell_type": "code",
   "execution_count": 61,
   "id": "1c635b8d-0edd-4cda-8037-2c1c74a7f8b5",
   "metadata": {},
   "outputs": [],
   "source": [
    "predictors = ['Age', 'G', 'GS', 'QBrec', 'Cmp', 'Att', 'Cmp%',\n",
    "       'Yds', 'TD', 'TD%', 'Int', 'Int%', '1D', 'Lng', 'Y/A', 'AY/A', 'Y/C',\n",
    "       'Y/G', 'Rate', 'QBR', 'Sk', 'Yds.1', 'Sk%', 'NY/A', 'ANY/A', '4QC',\n",
    "       'GWD', 'Year']"
   ]
  },
  {
   "cell_type": "code",
   "execution_count": 92,
   "id": "78729c8f-daa2-414c-942d-5c04c9c516f7",
   "metadata": {},
   "outputs": [],
   "source": [
    "train = stats[stats[\"Year\"] < 2022]"
   ]
  },
  {
   "cell_type": "code",
   "execution_count": 93,
   "id": "663894b7-d129-4b26-ad42-d2870fb0e739",
   "metadata": {},
   "outputs": [],
   "source": [
    "test = stats[stats[\"Year\"] == 2022]"
   ]
  },
  {
   "cell_type": "code",
   "execution_count": 94,
   "id": "53499d19-a384-405d-8e1a-5d828ee6324b",
   "metadata": {},
   "outputs": [],
   "source": [
    "from sklearn.linear_model import Ridge\n",
    "\n",
    "reg = Ridge(alpha = .1)"
   ]
  },
  {
   "cell_type": "code",
   "execution_count": 95,
   "id": "08d764e4-7864-4c84-8238-7685eb77edc3",
   "metadata": {},
   "outputs": [
    {
     "data": {
      "text/plain": [
       "Ridge(alpha=0.1)"
      ]
     },
     "execution_count": 95,
     "metadata": {},
     "output_type": "execute_result"
    }
   ],
   "source": [
    "reg.fit(train[predictors], train[\"Share\"])"
   ]
  },
  {
   "cell_type": "code",
   "execution_count": 96,
   "id": "ccca0ac6-2687-466d-9349-45a228bff305",
   "metadata": {},
   "outputs": [],
   "source": [
    "predictions = reg.predict(test[predictors])"
   ]
  },
  {
   "cell_type": "code",
   "execution_count": 97,
   "id": "c61ff45c-e5e3-4b96-9aa6-45f1b75ce044",
   "metadata": {},
   "outputs": [],
   "source": [
    "predictions = pd.DataFrame(predictions, columns=[\"predictions\"], index=test.index)"
   ]
  },
  {
   "cell_type": "code",
   "execution_count": 98,
   "id": "f7b76a23-3aaf-49ac-96ed-92980e5303ac",
   "metadata": {},
   "outputs": [
    {
     "data": {
      "text/html": [
       "<div>\n",
       "<style scoped>\n",
       "    .dataframe tbody tr th:only-of-type {\n",
       "        vertical-align: middle;\n",
       "    }\n",
       "\n",
       "    .dataframe tbody tr th {\n",
       "        vertical-align: top;\n",
       "    }\n",
       "\n",
       "    .dataframe thead th {\n",
       "        text-align: right;\n",
       "    }\n",
       "</style>\n",
       "<table border=\"1\" class=\"dataframe\">\n",
       "  <thead>\n",
       "    <tr style=\"text-align: right;\">\n",
       "      <th></th>\n",
       "      <th>predictions</th>\n",
       "    </tr>\n",
       "  </thead>\n",
       "  <tbody>\n",
       "    <tr>\n",
       "      <th>896</th>\n",
       "      <td>13.866604</td>\n",
       "    </tr>\n",
       "    <tr>\n",
       "      <th>897</th>\n",
       "      <td>-5.347882</td>\n",
       "    </tr>\n",
       "    <tr>\n",
       "      <th>898</th>\n",
       "      <td>-5.189574</td>\n",
       "    </tr>\n",
       "    <tr>\n",
       "      <th>899</th>\n",
       "      <td>-2.508358</td>\n",
       "    </tr>\n",
       "    <tr>\n",
       "      <th>900</th>\n",
       "      <td>7.067456</td>\n",
       "    </tr>\n",
       "    <tr>\n",
       "      <th>...</th>\n",
       "      <td>...</td>\n",
       "    </tr>\n",
       "    <tr>\n",
       "      <th>997</th>\n",
       "      <td>0.467795</td>\n",
       "    </tr>\n",
       "    <tr>\n",
       "      <th>998</th>\n",
       "      <td>0.143134</td>\n",
       "    </tr>\n",
       "    <tr>\n",
       "      <th>999</th>\n",
       "      <td>-0.977064</td>\n",
       "    </tr>\n",
       "    <tr>\n",
       "      <th>1000</th>\n",
       "      <td>-0.176672</td>\n",
       "    </tr>\n",
       "    <tr>\n",
       "      <th>1001</th>\n",
       "      <td>0.570411</td>\n",
       "    </tr>\n",
       "  </tbody>\n",
       "</table>\n",
       "<p>106 rows × 1 columns</p>\n",
       "</div>"
      ],
      "text/plain": [
       "      predictions\n",
       "896     13.866604\n",
       "897     -5.347882\n",
       "898     -5.189574\n",
       "899     -2.508358\n",
       "900      7.067456\n",
       "...           ...\n",
       "997      0.467795\n",
       "998      0.143134\n",
       "999     -0.977064\n",
       "1000    -0.176672\n",
       "1001     0.570411\n",
       "\n",
       "[106 rows x 1 columns]"
      ]
     },
     "execution_count": 98,
     "metadata": {},
     "output_type": "execute_result"
    }
   ],
   "source": [
    "predictions"
   ]
  },
  {
   "cell_type": "code",
   "execution_count": 99,
   "id": "932dd462-eecb-4060-a028-70268ec5c48c",
   "metadata": {},
   "outputs": [],
   "source": [
    "combination = pd.concat([test[[\"Player\", \"Share\"]], predictions], axis=1)"
   ]
  },
  {
   "cell_type": "code",
   "execution_count": 100,
   "id": "bdad8e60-e563-4979-bcee-7830162ec5c9",
   "metadata": {},
   "outputs": [
    {
     "data": {
      "text/html": [
       "<div>\n",
       "<style scoped>\n",
       "    .dataframe tbody tr th:only-of-type {\n",
       "        vertical-align: middle;\n",
       "    }\n",
       "\n",
       "    .dataframe tbody tr th {\n",
       "        vertical-align: top;\n",
       "    }\n",
       "\n",
       "    .dataframe thead th {\n",
       "        text-align: right;\n",
       "    }\n",
       "</style>\n",
       "<table border=\"1\" class=\"dataframe\">\n",
       "  <thead>\n",
       "    <tr style=\"text-align: right;\">\n",
       "      <th></th>\n",
       "      <th>Player</th>\n",
       "      <th>Share</th>\n",
       "      <th>predictions</th>\n",
       "    </tr>\n",
       "  </thead>\n",
       "  <tbody>\n",
       "    <tr>\n",
       "      <th>896</th>\n",
       "      <td>Patrick Mahomes</td>\n",
       "      <td>0</td>\n",
       "      <td>13.866604</td>\n",
       "    </tr>\n",
       "    <tr>\n",
       "      <th>902</th>\n",
       "      <td>Josh Allen</td>\n",
       "      <td>0</td>\n",
       "      <td>10.545767</td>\n",
       "    </tr>\n",
       "    <tr>\n",
       "      <th>907</th>\n",
       "      <td>Tua Tagovailoa</td>\n",
       "      <td>0</td>\n",
       "      <td>8.368798</td>\n",
       "    </tr>\n",
       "    <tr>\n",
       "      <th>901</th>\n",
       "      <td>Jared Goff</td>\n",
       "      <td>0</td>\n",
       "      <td>7.366451</td>\n",
       "    </tr>\n",
       "    <tr>\n",
       "      <th>900</th>\n",
       "      <td>Joe Burrow</td>\n",
       "      <td>0</td>\n",
       "      <td>7.067456</td>\n",
       "    </tr>\n",
       "    <tr>\n",
       "      <th>929</th>\n",
       "      <td>Brock Purdy</td>\n",
       "      <td>0</td>\n",
       "      <td>5.858790</td>\n",
       "    </tr>\n",
       "    <tr>\n",
       "      <th>903</th>\n",
       "      <td>Geno Smith</td>\n",
       "      <td>0</td>\n",
       "      <td>3.969330</td>\n",
       "    </tr>\n",
       "    <tr>\n",
       "      <th>918</th>\n",
       "      <td>Jimmy Garoppolo</td>\n",
       "      <td>0</td>\n",
       "      <td>3.781408</td>\n",
       "    </tr>\n",
       "    <tr>\n",
       "      <th>922</th>\n",
       "      <td>Lamar Jackson</td>\n",
       "      <td>0</td>\n",
       "      <td>3.596842</td>\n",
       "    </tr>\n",
       "    <tr>\n",
       "      <th>905</th>\n",
       "      <td>Jalen Hurts</td>\n",
       "      <td>0</td>\n",
       "      <td>3.594528</td>\n",
       "    </tr>\n",
       "    <tr>\n",
       "      <th>904</th>\n",
       "      <td>Trevor Lawrence</td>\n",
       "      <td>0</td>\n",
       "      <td>3.483380</td>\n",
       "    </tr>\n",
       "    <tr>\n",
       "      <th>915</th>\n",
       "      <td>Dak Prescott</td>\n",
       "      <td>0</td>\n",
       "      <td>3.032867</td>\n",
       "    </tr>\n",
       "    <tr>\n",
       "      <th>906</th>\n",
       "      <td>Aaron Rodgers</td>\n",
       "      <td>0</td>\n",
       "      <td>2.033934</td>\n",
       "    </tr>\n",
       "    <tr>\n",
       "      <th>926</th>\n",
       "      <td>Taylor Heinicke</td>\n",
       "      <td>0</td>\n",
       "      <td>1.810819</td>\n",
       "    </tr>\n",
       "    <tr>\n",
       "      <th>914</th>\n",
       "      <td>Andy Dalton</td>\n",
       "      <td>0</td>\n",
       "      <td>1.708027</td>\n",
       "    </tr>\n",
       "    <tr>\n",
       "      <th>921</th>\n",
       "      <td>Justin Fields</td>\n",
       "      <td>0</td>\n",
       "      <td>1.553490</td>\n",
       "    </tr>\n",
       "    <tr>\n",
       "      <th>932</th>\n",
       "      <td>Sam Darnold</td>\n",
       "      <td>0</td>\n",
       "      <td>1.502498</td>\n",
       "    </tr>\n",
       "    <tr>\n",
       "      <th>909</th>\n",
       "      <td>Derek Carr</td>\n",
       "      <td>0</td>\n",
       "      <td>1.417678</td>\n",
       "    </tr>\n",
       "    <tr>\n",
       "      <th>985</th>\n",
       "      <td>Najee Harris</td>\n",
       "      <td>0</td>\n",
       "      <td>1.393374</td>\n",
       "    </tr>\n",
       "    <tr>\n",
       "      <th>951</th>\n",
       "      <td>David Blough</td>\n",
       "      <td>0</td>\n",
       "      <td>1.363023</td>\n",
       "    </tr>\n",
       "  </tbody>\n",
       "</table>\n",
       "</div>"
      ],
      "text/plain": [
       "              Player  Share  predictions\n",
       "896  Patrick Mahomes      0    13.866604\n",
       "902       Josh Allen      0    10.545767\n",
       "907   Tua Tagovailoa      0     8.368798\n",
       "901       Jared Goff      0     7.366451\n",
       "900       Joe Burrow      0     7.067456\n",
       "929      Brock Purdy      0     5.858790\n",
       "903       Geno Smith      0     3.969330\n",
       "918  Jimmy Garoppolo      0     3.781408\n",
       "922    Lamar Jackson      0     3.596842\n",
       "905      Jalen Hurts      0     3.594528\n",
       "904  Trevor Lawrence      0     3.483380\n",
       "915     Dak Prescott      0     3.032867\n",
       "906    Aaron Rodgers      0     2.033934\n",
       "926  Taylor Heinicke      0     1.810819\n",
       "914      Andy Dalton      0     1.708027\n",
       "921    Justin Fields      0     1.553490\n",
       "932      Sam Darnold      0     1.502498\n",
       "909       Derek Carr      0     1.417678\n",
       "985     Najee Harris      0     1.393374\n",
       "951     David Blough      0     1.363023"
      ]
     },
     "execution_count": 100,
     "metadata": {},
     "output_type": "execute_result"
    }
   ],
   "source": [
    "combination.sort_values(\"predictions\", ascending=False).head(20)"
   ]
  },
  {
   "cell_type": "code",
   "execution_count": null,
   "id": "d23f952b-28cd-4a9d-8b45-65f2d758d3dd",
   "metadata": {},
   "outputs": [],
   "source": []
  }
 ],
 "metadata": {
  "kernelspec": {
   "display_name": "Python 3 (ipykernel)",
   "language": "python",
   "name": "python3"
  },
  "language_info": {
   "codemirror_mode": {
    "name": "ipython",
    "version": 3
   },
   "file_extension": ".py",
   "mimetype": "text/x-python",
   "name": "python",
   "nbconvert_exporter": "python",
   "pygments_lexer": "ipython3",
   "version": "3.9.13"
  }
 },
 "nbformat": 4,
 "nbformat_minor": 5
}
